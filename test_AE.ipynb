{
 "cells": [
  {
   "cell_type": "code",
   "execution_count": 1,
   "metadata": {
    "collapsed": false
   },
   "outputs": [],
   "source": [
    "import os\n",
    "os.environ['THEANO_FLAGS']=\"device=cpu\"\n",
    "\n",
    "from utils import tile_raster_images\n",
    "from pylearn2.utils import serial\n",
    "import theano\n",
    "import theano.tensor as T\n",
    "\n",
    "try:\n",
    "    import PIL.Image as Image\n",
    "except ImportError:\n",
    "    import Image\n",
    "import IPython.display as I"
   ]
  },
  {
   "cell_type": "code",
   "execution_count": 2,
   "metadata": {
    "collapsed": true
   },
   "outputs": [],
   "source": [
    "DIR_DATA = '/Users/vmisra/data/AE_experiments'\n",
    "dir_model = os.path.join(DIR_DATA,'models')\n",
    "dir_fuel = os.path.join(DIR_DATA,'fuel')"
   ]
  },
  {
   "cell_type": "markdown",
   "metadata": {},
   "source": [
    "#Load models and data"
   ]
  },
  {
   "cell_type": "code",
   "execution_count": 3,
   "metadata": {
    "collapsed": false
   },
   "outputs": [],
   "source": [
    "model_folders = [model_folder \\\n",
    "               for model_folder in os.listdir(dir_model) \\\n",
    "               if os.path.isdir(os.path.join(dir_model,model_folder))]\n",
    "model_folders = ['Z2_300','Z2_230','Z2_100']"
   ]
  },
  {
   "cell_type": "code",
   "execution_count": 4,
   "metadata": {
    "collapsed": false
   },
   "outputs": [],
   "source": [
    "models = [serial.load(os.path.join(dir_model,model_folder,'finetune.pkl')) for model_folder in model_folders]"
   ]
  },
  {
   "cell_type": "code",
   "execution_count": 5,
   "metadata": {
    "collapsed": true
   },
   "outputs": [],
   "source": [
    "test_data = serial.load(os.path.join(dir_fuel,'mnist_test_X.pkl'))"
   ]
  },
  {
   "cell_type": "markdown",
   "metadata": {},
   "source": [
    "#Define graph"
   ]
  },
  {
   "cell_type": "code",
   "execution_count": null,
   "metadata": {
    "collapsed": true
   },
   "outputs": [],
   "source": [
    "Xs = [model.get_input_space().make_theano_batch() for model in models]\n",
    "Ys = [model.fprop(X) for (model,X) in zip(models,Xs)]"
   ]
  },
  {
   "cell_type": "markdown",
   "metadata": {},
   "source": [
    "#Compute output"
   ]
  },
  {
   "cell_type": "code",
   "execution_count": null,
   "metadata": {
    "collapsed": false,
    "scrolled": true
   },
   "outputs": [],
   "source": [
    "Xhats = [Y.eval({X:test_data}) for (X,Y) in zip(Xs,Ys)]"
   ]
  },
  {
   "cell_type": "markdown",
   "metadata": {},
   "source": [
    "##visualize outputs"
   ]
  },
  {
   "cell_type": "code",
   "execution_count": null,
   "metadata": {
    "collapsed": false
   },
   "outputs": [],
   "source": [
    "original_img = Image.fromarray(tile_raster_images(X=test_data,\n",
    "                                                  img_shape=(28,28),\n",
    "                                                  tile_shape=(10,10),\n",
    "                                                  tile_spacing=(1,1)))\n",
    "original_img.save('temp.png')\n",
    "print 'original'\n",
    "I.display(I.Image('temp.png'))"
   ]
  },
  {
   "cell_type": "code",
   "execution_count": null,
   "metadata": {
    "collapsed": false
   },
   "outputs": [],
   "source": [
    "for (xhat,model_folder) in zip(Xhats,model_folders):\n",
    "    reconstructed = Image.fromarray(tile_raster_images(X=xhat,\n",
    "                                                  img_shape=(28,28),\n",
    "                                                  tile_shape=(10,10),\n",
    "                                                  tile_spacing=(1,1)))\n",
    "    reconstructed.save(model_folder+'.png')\n",
    "    print model_folder\n",
    "    I.display(I.Image(model_folder+'.png'))"
   ]
  }
 ],
 "metadata": {
  "kernelspec": {
   "display_name": "Python 2",
   "language": "python",
   "name": "python2"
  },
  "language_info": {
   "codemirror_mode": {
    "name": "ipython",
    "version": 2
   },
   "file_extension": ".py",
   "mimetype": "text/x-python",
   "name": "python",
   "nbconvert_exporter": "python",
   "pygments_lexer": "ipython2",
   "version": "2.7.9"
  }
 },
 "nbformat": 4,
 "nbformat_minor": 0
}
